{
  "nbformat": 4,
  "nbformat_minor": 0,
  "metadata": {
    "colab": {
      "provenance": []
    },
    "kernelspec": {
      "name": "python3",
      "display_name": "Python 3"
    },
    "language_info": {
      "name": "python"
    }
  },
  "cells": [
    {
      "cell_type": "code",
      "source": [
        "# Importar librerías necesarias\n",
        "import pandas as pd\n",
        "\n",
        "# Cargar el archivo CSV\n",
        "file_path = 'Accidentalidad_Vial_2022_2024.csv'  # Asegúrate de que esté en el mismo directorio\n",
        "df = pd.read_csv(file_path, low_memory=False)\n",
        "\n",
        "# Asegurar que las columnas estén en mayúsculas (como en tu archivo)\n",
        "df.columns = df.columns.str.upper()\n",
        "\n",
        "# Convertir a numéricas las columnas de interés\n",
        "cols_numericas = ['N_HERIDOS', 'N_MUERTOS', 'N_VICTIMAS']\n",
        "df[cols_numericas] = df[cols_numericas].apply(pd.to_numeric, errors='coerce')\n",
        "\n",
        "# Descripción estadística\n",
        "descripcion_estadistica = df[cols_numericas].describe()\n",
        "\n",
        "# Mostrar descripción estadística\n",
        "print(\"📊 Estadísticas Descriptivas de Accidentes 2022 - 2024:\\n\")\n",
        "print(descripcion_estadistica)\n",
        "\n",
        "# Conteo de valores nulos\n",
        "print(\"\\n🔍 Valores nulos por columna:\\n\")\n",
        "print(df[cols_numericas].isnull().sum())\n"
      ],
      "metadata": {
        "colab": {
          "base_uri": "https://localhost:8080/"
        },
        "id": "Pn9M6Xrrh8O5",
        "outputId": "f8536c9d-7db2-4c92-ed24-0bde7f73496b"
      },
      "execution_count": 8,
      "outputs": [
        {
          "output_type": "stream",
          "name": "stdout",
          "text": [
            "📊 Estadísticas Descriptivas de Accidentes 2022 - 2024:\n",
            "\n",
            "         N_HERIDOS    N_MUERTOS   N_VICTIMAS\n",
            "count  3000.000000  3000.000000  3000.000000\n",
            "mean      0.592333     0.102000     0.694333\n",
            "std       0.765291     0.302699     0.819222\n",
            "min       0.000000     0.000000     0.000000\n",
            "25%       0.000000     0.000000     0.000000\n",
            "50%       0.000000     0.000000     1.000000\n",
            "75%       1.000000     0.000000     1.000000\n",
            "max       5.000000     1.000000     5.000000\n",
            "\n",
            "🔍 Valores nulos por columna:\n",
            "\n",
            "N_HERIDOS     0\n",
            "N_MUERTOS     0\n",
            "N_VICTIMAS    0\n",
            "dtype: int64\n"
          ]
        }
      ]
    }
  ]
}